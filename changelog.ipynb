{
 "cells": [
  {
   "cell_type": "markdown",
   "metadata": {},
   "source": [
    "# Changelog\n",
    "\n"
   ]
  },
  {
   "cell_type": "markdown",
   "metadata": {},
   "source": [
    "## version_1\n",
    "\n",
    "billions_eda_part_1.ipynb file:\n",
    "- Contained all data pre-processing to create a dataset ready to be analized\n",
    "\n",
    "billions_eda_part_2.ipynb file:\n",
    "- Contained EDA Q&A with 10 different questions (not included in the version reviewed in 1to1)"
   ]
  },
  {
   "cell_type": "markdown",
   "metadata": {},
   "source": [
    "## version_2 (started on 02-06-2024)\n",
    "- Contained a single file called billions_eda_v2 that unifies billions_eda_part1_1 an billions_eda_part_2\n",
    "\n",
    "Overall changes:\n",
    "1. Fixed typos and grammar spelling errors in comments.\n",
    "2. Eliminated space between comments and code in cells.\n",
    "3. Added comments in cells that didn't have them.\n",
    "4. Changed printed statements related to null values to only show columns with null values in descending order for better readability."
   ]
  },
  {
   "cell_type": "markdown",
   "metadata": {},
   "source": [
    "### Data dictionary\n",
    "\n",
    "1. [Pending] Added a link to the data source."
   ]
  },
  {
   "cell_type": "markdown",
   "metadata": {},
   "source": [
    "### Part 1. Importing libraries, changing settings to display all columns and loading the dataset.\n",
    "\n",
    "1. No changes in this part."
   ]
  },
  {
   "cell_type": "markdown",
   "metadata": {},
   "source": [
    "### Part 2. Data cleaning.\n",
    "\n",
    "#### Dealing with null values section.\n",
    "\n",
    "1. Added explanatory sentences to provide context for the executed code.\n",
    "2. Changed number format to add thousands separator for better readability.\n",
    "3. Standardized columns' names to italics in markdown.\n",
    "4. Changed printed statements related to *organization* and *title* columns to only display some values instead of all."
   ]
  },
  {
   "cell_type": "markdown",
   "metadata": {},
   "source": [
    "### Part 3. Dataset structural enhancement.\n",
    "\n",
    "1. Added explanatory sentences to provide context for the executed code.\n"
   ]
  },
  {
   "cell_type": "markdown",
   "metadata": {},
   "source": [
    "### Part 4. Data quality improvement.\n",
    "\n",
    "#### Looking for duplicate values in the dataset\n",
    "1. Added explanatory sentences to compare number of rows without duplicates with dataset's size.\n",
    "\n",
    "#### Data types adjustment\n",
    "1. Changed printed statements related to dates to only display some values instead of all.\n",
    "\n",
    "#### Feature engineering\n",
    "1. Replaced code to create *continent* column with a less verbose, more efficient and maintanable version.\n",
    "\n",
    "#### Advanced null values addressing\n",
    "1. Added explanatory sentences to provide context for the executed code.\n",
    "2. Added comments to code cells and outputs for better readability.\n",
    "3. Replaced code to address null values for *life_expectancy_country*, *gdp_country*, *population_country*, *latitude_country* and *longitude_country* with a less verbose, more efficient and maintanable version.\n",
    "4. Added explanatory sentences to provide context for the corresponding outputs.\n",
    "5. Replaced code to calculate and fill null values with continents' median values for tax and education related columns with a less verbose version.\n",
    "6. Added explanatory sentences to provide context for the corresponding outputs."
   ]
  },
  {
   "cell_type": "markdown",
   "metadata": {},
   "source": [
    "### Part 5. Creating the definitive dataset to perform EDA.\n",
    "\n",
    "1. Added a final printed statement to verify the final dataset doesn't contain any nulls."
   ]
  }
 ],
 "metadata": {
  "language_info": {
   "name": "python"
  }
 },
 "nbformat": 4,
 "nbformat_minor": 2
}
