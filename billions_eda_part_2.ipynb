{
 "cells": [
  {
   "cell_type": "markdown",
   "metadata": {},
   "source": [
    "# Description of the notebook"
   ]
  },
  {
   "cell_type": "markdown",
   "metadata": {},
   "source": [
    "## Table of contents\n",
    "\n",
    "1. [Part 1. Description of the notebook](#description-of-the-notebook)\n",
    "2. [Part 2. Q&A EDA](#part-2-qa-eda)\n",
    "   1. [Question 1. What are the Top 5 countries in which billionaires reside and what proportion they represent?](#question-1-what-are-the-top-5-countries-in-which-billionaires-reside-and-what-proportion-they-represent)\n",
    "   2. [Question 2. What are the Top 5 cities in which billionaires reside and what proportion they represent?](#question-2-what-are-the-top-5-cities-in-which-billionaires-reside-and-what-proportion-they-represent)\n",
    "   3. [Question 3. How are billionaires distributed by continent and what proportion they represent?](#question-3-how-are-billionaires-distributed-by-continent-and-what-proportion-they-represent)\n",
    "   4. [Question 4. Which are the industries that produce the most billionaires?](#question-4-which-are-the-industries-that-produce-the-most-billionaires)\n",
    "   5. [Question 5. What is the most common age for billionaires?](#question-5-what-is-the-most-common-age-for-billionaires)\n",
    "   6. [Question 6. What is the overall distribution of billionaires by gender in the Top 5 countries?](#question-6-what-is-the-overall-distribution-of-billionaires-by-gender-in-the-top-5-countries)\n",
    "   7. [Question 7. Box plot to see the distribution of wealth across top 5 countries](#question-7-box-plot-to-see-the-distribution-of-wealth-across-top-5-countries)\n",
    "   8. [Question 8. Billionaires age distribution](#question-8-billionaires-age-distribution)\n",
    "   9. [Question 9. What are the most common birth day, month and year for billionaires?](#question-9-what-are-the-most-common-birth-day-month-and-year-for-billionaires)\n",
    "   10. [Question 10. Country pop and number of billionaires. What is the frequence of being a billionaire in the Top 5 countries?](#question-10-country-pop-and-number-of-billionaires-what-is-the-frequence-of-being-a-billionaire-in-the-top-5-countries)"
   ]
  },
  {
   "cell_type": "markdown",
   "metadata": {},
   "source": [
    "## Part 1. Importing libraries, changing settings to display all columns and loading the dataset\n",
    "\n",
    "In the first part of the notebook, all the needed libraries to perform the analysis will be imported. Also, the dataset will be loaded to take a look at it and make any adjustment if necessary before the EDA.\n",
    "\n",
    "[Go back to the table of contents](#table-of-contents)"
   ]
  },
  {
   "cell_type": "code",
   "execution_count": 1,
   "metadata": {},
   "outputs": [],
   "source": [
    "import numpy as np\n",
    "import pandas as pd\n",
    "import matplotlib.pyplot as plt\n",
    "import seaborn as sns\n",
    "from IPython.display import display\n"
   ]
  },
  {
   "cell_type": "code",
   "execution_count": 2,
   "metadata": {},
   "outputs": [],
   "source": [
    "# Setting option to display all columns when viewing the dataset.\n",
    "\n",
    "pd.set_option('display.max_columns', None)"
   ]
  },
  {
   "cell_type": "code",
   "execution_count": 3,
   "metadata": {},
   "outputs": [],
   "source": [
    "# Loading the dataset to be used in the EDA process\n",
    "\n",
    "df_ready = pd.read_csv('df_ready.csv')"
   ]
  },
  {
   "cell_type": "code",
   "execution_count": 4,
   "metadata": {},
   "outputs": [
    {
     "data": {
      "text/html": [
       "<div>\n",
       "<style scoped>\n",
       "    .dataframe tbody tr th:only-of-type {\n",
       "        vertical-align: middle;\n",
       "    }\n",
       "\n",
       "    .dataframe tbody tr th {\n",
       "        vertical-align: top;\n",
       "    }\n",
       "\n",
       "    .dataframe thead th {\n",
       "        text-align: right;\n",
       "    }\n",
       "</style>\n",
       "<table border=\"1\" class=\"dataframe\">\n",
       "  <thead>\n",
       "    <tr style=\"text-align: right;\">\n",
       "      <th></th>\n",
       "      <th>position</th>\n",
       "      <th>wealth</th>\n",
       "      <th>category</th>\n",
       "      <th>full_name</th>\n",
       "      <th>age</th>\n",
       "      <th>country_of_residence</th>\n",
       "      <th>city_of_residence</th>\n",
       "      <th>source</th>\n",
       "      <th>citizenship</th>\n",
       "      <th>organization</th>\n",
       "      <th>gender</th>\n",
       "      <th>birth_date</th>\n",
       "      <th>last_name</th>\n",
       "      <th>first_name</th>\n",
       "      <th>title</th>\n",
       "      <th>residence_state</th>\n",
       "      <th>residence_region</th>\n",
       "      <th>birth_year</th>\n",
       "      <th>birth_month</th>\n",
       "      <th>birth_day</th>\n",
       "      <th>cpi_country</th>\n",
       "      <th>cpi_change_country</th>\n",
       "      <th>gdp_country</th>\n",
       "      <th>g_tertiary_ed_enroll</th>\n",
       "      <th>g_primary_ed_enroll</th>\n",
       "      <th>life_expectancy</th>\n",
       "      <th>tax_revenue</th>\n",
       "      <th>tax_rate</th>\n",
       "      <th>country_pop</th>\n",
       "      <th>country_lat</th>\n",
       "      <th>country_long</th>\n",
       "      <th>continent</th>\n",
       "    </tr>\n",
       "  </thead>\n",
       "  <tbody>\n",
       "    <tr>\n",
       "      <th>0</th>\n",
       "      <td>1</td>\n",
       "      <td>211000</td>\n",
       "      <td>Fashion &amp; Retail</td>\n",
       "      <td>Bernard Arnault &amp; family</td>\n",
       "      <td>74</td>\n",
       "      <td>France</td>\n",
       "      <td>Paris</td>\n",
       "      <td>LVMH</td>\n",
       "      <td>France</td>\n",
       "      <td>LVMH Moët Hennessy Louis Vuitton</td>\n",
       "      <td>M</td>\n",
       "      <td>1949-03-05</td>\n",
       "      <td>Arnault</td>\n",
       "      <td>Bernard</td>\n",
       "      <td>Chairman and CEO</td>\n",
       "      <td>No subdivisions info</td>\n",
       "      <td>No subdivisions info</td>\n",
       "      <td>1949</td>\n",
       "      <td>3</td>\n",
       "      <td>5</td>\n",
       "      <td>110.05</td>\n",
       "      <td>1.1</td>\n",
       "      <td>2715518274227</td>\n",
       "      <td>65.6</td>\n",
       "      <td>102.5</td>\n",
       "      <td>82.5</td>\n",
       "      <td>24.2</td>\n",
       "      <td>60.7</td>\n",
       "      <td>67059887</td>\n",
       "      <td>46.227638</td>\n",
       "      <td>2.213749</td>\n",
       "      <td>Europe</td>\n",
       "    </tr>\n",
       "    <tr>\n",
       "      <th>1</th>\n",
       "      <td>2</td>\n",
       "      <td>180000</td>\n",
       "      <td>Automotive</td>\n",
       "      <td>Elon Musk</td>\n",
       "      <td>51</td>\n",
       "      <td>United States</td>\n",
       "      <td>Austin</td>\n",
       "      <td>Tesla, SpaceX</td>\n",
       "      <td>United States</td>\n",
       "      <td>Tesla</td>\n",
       "      <td>M</td>\n",
       "      <td>1971-06-28</td>\n",
       "      <td>Musk</td>\n",
       "      <td>Elon</td>\n",
       "      <td>CEO</td>\n",
       "      <td>Texas</td>\n",
       "      <td>South</td>\n",
       "      <td>1971</td>\n",
       "      <td>6</td>\n",
       "      <td>28</td>\n",
       "      <td>117.24</td>\n",
       "      <td>7.5</td>\n",
       "      <td>21427700000000</td>\n",
       "      <td>88.2</td>\n",
       "      <td>101.8</td>\n",
       "      <td>78.5</td>\n",
       "      <td>9.6</td>\n",
       "      <td>36.6</td>\n",
       "      <td>328239523</td>\n",
       "      <td>37.090240</td>\n",
       "      <td>-95.712891</td>\n",
       "      <td>North America</td>\n",
       "    </tr>\n",
       "    <tr>\n",
       "      <th>2</th>\n",
       "      <td>3</td>\n",
       "      <td>114000</td>\n",
       "      <td>Technology</td>\n",
       "      <td>Jeff Bezos</td>\n",
       "      <td>59</td>\n",
       "      <td>United States</td>\n",
       "      <td>Medina</td>\n",
       "      <td>Amazon</td>\n",
       "      <td>United States</td>\n",
       "      <td>Amazon</td>\n",
       "      <td>M</td>\n",
       "      <td>1964-01-12</td>\n",
       "      <td>Bezos</td>\n",
       "      <td>Jeff</td>\n",
       "      <td>Chairman and Founder</td>\n",
       "      <td>Washington</td>\n",
       "      <td>West</td>\n",
       "      <td>1964</td>\n",
       "      <td>1</td>\n",
       "      <td>12</td>\n",
       "      <td>117.24</td>\n",
       "      <td>7.5</td>\n",
       "      <td>21427700000000</td>\n",
       "      <td>88.2</td>\n",
       "      <td>101.8</td>\n",
       "      <td>78.5</td>\n",
       "      <td>9.6</td>\n",
       "      <td>36.6</td>\n",
       "      <td>328239523</td>\n",
       "      <td>37.090240</td>\n",
       "      <td>-95.712891</td>\n",
       "      <td>North America</td>\n",
       "    </tr>\n",
       "  </tbody>\n",
       "</table>\n",
       "</div>"
      ],
      "text/plain": [
       "   position  wealth          category                 full_name  age  \\\n",
       "0         1  211000  Fashion & Retail  Bernard Arnault & family   74   \n",
       "1         2  180000        Automotive                 Elon Musk   51   \n",
       "2         3  114000        Technology                Jeff Bezos   59   \n",
       "\n",
       "  country_of_residence city_of_residence         source    citizenship  \\\n",
       "0               France             Paris           LVMH         France   \n",
       "1        United States            Austin  Tesla, SpaceX  United States   \n",
       "2        United States            Medina         Amazon  United States   \n",
       "\n",
       "                       organization gender  birth_date last_name first_name  \\\n",
       "0  LVMH Moët Hennessy Louis Vuitton      M  1949-03-05   Arnault    Bernard   \n",
       "1                             Tesla      M  1971-06-28      Musk       Elon   \n",
       "2                            Amazon      M  1964-01-12     Bezos       Jeff   \n",
       "\n",
       "                  title       residence_state      residence_region  \\\n",
       "0      Chairman and CEO  No subdivisions info  No subdivisions info   \n",
       "1                   CEO                 Texas                 South   \n",
       "2  Chairman and Founder            Washington                  West   \n",
       "\n",
       "   birth_year  birth_month  birth_day cpi_country cpi_change_country  \\\n",
       "0        1949            3          5      110.05                1.1   \n",
       "1        1971            6         28      117.24                7.5   \n",
       "2        1964            1         12      117.24                7.5   \n",
       "\n",
       "      gdp_country  g_tertiary_ed_enroll  g_primary_ed_enroll  life_expectancy  \\\n",
       "0   2715518274227                  65.6                102.5             82.5   \n",
       "1  21427700000000                  88.2                101.8             78.5   \n",
       "2  21427700000000                  88.2                101.8             78.5   \n",
       "\n",
       "   tax_revenue  tax_rate  country_pop  country_lat  country_long  \\\n",
       "0         24.2      60.7     67059887    46.227638      2.213749   \n",
       "1          9.6      36.6    328239523    37.090240    -95.712891   \n",
       "2          9.6      36.6    328239523    37.090240    -95.712891   \n",
       "\n",
       "       continent  \n",
       "0         Europe  \n",
       "1  North America  \n",
       "2  North America  "
      ]
     },
     "execution_count": 4,
     "metadata": {},
     "output_type": "execute_result"
    }
   ],
   "source": [
    "# Taking a first look to it using the head() function\n",
    "\n",
    "df_ready.head(3)"
   ]
  },
  {
   "cell_type": "code",
   "execution_count": 5,
   "metadata": {},
   "outputs": [
    {
     "data": {
      "text/plain": [
       "(2591, 32)"
      ]
     },
     "metadata": {},
     "output_type": "display_data"
    },
    {
     "data": {
      "text/plain": [
       "82912"
      ]
     },
     "metadata": {},
     "output_type": "display_data"
    }
   ],
   "source": [
    "# Finding the number of rows, columns, and total values of the dataset\n",
    "\n",
    "display(df_ready.shape)\n",
    "display(df_ready.size)"
   ]
  },
  {
   "cell_type": "code",
   "execution_count": 6,
   "metadata": {},
   "outputs": [],
   "source": [
    "# Converting back the birth_date column to date type\n",
    "\n",
    "df_ready['birth_date'] = pd.to_datetime(df_ready['birth_date']).dt.strftime('%Y/%m/%d')\n",
    "df_ready['birth_date'] = pd.to_datetime(df_ready['birth_date'], format='%Y/%m/%d')"
   ]
  },
  {
   "cell_type": "code",
   "execution_count": 7,
   "metadata": {},
   "outputs": [
    {
     "data": {
      "text/plain": [
       "position                         int64\n",
       "wealth                           int64\n",
       "category                        object\n",
       "full_name                       object\n",
       "age                              int64\n",
       "country_of_residence            object\n",
       "city_of_residence               object\n",
       "source                          object\n",
       "citizenship                     object\n",
       "organization                    object\n",
       "gender                          object\n",
       "birth_date              datetime64[ns]\n",
       "last_name                       object\n",
       "first_name                      object\n",
       "title                           object\n",
       "residence_state                 object\n",
       "residence_region                object\n",
       "birth_year                       int64\n",
       "birth_month                      int64\n",
       "birth_day                        int64\n",
       "cpi_country                     object\n",
       "cpi_change_country              object\n",
       "gdp_country                      int64\n",
       "g_tertiary_ed_enroll           float64\n",
       "g_primary_ed_enroll            float64\n",
       "life_expectancy                float64\n",
       "tax_revenue                    float64\n",
       "tax_rate                       float64\n",
       "country_pop                      int64\n",
       "country_lat                    float64\n",
       "country_long                   float64\n",
       "continent                       object\n",
       "dtype: object"
      ]
     },
     "execution_count": 7,
     "metadata": {},
     "output_type": "execute_result"
    }
   ],
   "source": [
    "# Verifying the changes\n",
    "\n",
    "df_ready.dtypes"
   ]
  },
  {
   "cell_type": "markdown",
   "metadata": {},
   "source": [
    "## Part 2. Q&A EDA\n",
    "\n",
    "This part delves into questions about the billionaire dataset, employing code-driven analyses to unveil key insights. The exploration covers diverse aspects, including geographical concentration, industry dominance, age demographics, gender distribution and wealth patterns.\n",
    "\n",
    "This list of questions is designed to provide a comprehensive understanding of the billionaires' landscape around the world.\n",
    "\n",
    "[Go back to the table of contents](#table-of-contents)"
   ]
  },
  {
   "cell_type": "markdown",
   "metadata": {},
   "source": [
    "### Question 1. What are the Top 5 countries in which billionaires reside and what proportion they represent?"
   ]
  },
  {
   "cell_type": "code",
   "execution_count": 8,
   "metadata": {},
   "outputs": [
    {
     "data": {
      "text/html": [
       "<div>\n",
       "<style scoped>\n",
       "    .dataframe tbody tr th:only-of-type {\n",
       "        vertical-align: middle;\n",
       "    }\n",
       "\n",
       "    .dataframe tbody tr th {\n",
       "        vertical-align: top;\n",
       "    }\n",
       "\n",
       "    .dataframe thead th {\n",
       "        text-align: right;\n",
       "    }\n",
       "</style>\n",
       "<table border=\"1\" class=\"dataframe\">\n",
       "  <thead>\n",
       "    <tr style=\"text-align: right;\">\n",
       "      <th></th>\n",
       "      <th>Country</th>\n",
       "      <th>Billionaires count</th>\n",
       "      <th>Percentage over total</th>\n",
       "      <th>Cumulative Percentage</th>\n",
       "    </tr>\n",
       "  </thead>\n",
       "  <tbody>\n",
       "    <tr>\n",
       "      <th>0</th>\n",
       "      <td>United States</td>\n",
       "      <td>754</td>\n",
       "      <td>29.10</td>\n",
       "      <td>29.10</td>\n",
       "    </tr>\n",
       "    <tr>\n",
       "      <th>1</th>\n",
       "      <td>China</td>\n",
       "      <td>515</td>\n",
       "      <td>19.88</td>\n",
       "      <td>48.98</td>\n",
       "    </tr>\n",
       "    <tr>\n",
       "      <th>2</th>\n",
       "      <td>India</td>\n",
       "      <td>157</td>\n",
       "      <td>6.06</td>\n",
       "      <td>55.04</td>\n",
       "    </tr>\n",
       "    <tr>\n",
       "      <th>3</th>\n",
       "      <td>Germany</td>\n",
       "      <td>102</td>\n",
       "      <td>3.94</td>\n",
       "      <td>58.98</td>\n",
       "    </tr>\n",
       "    <tr>\n",
       "      <th>4</th>\n",
       "      <td>United Kingdom</td>\n",
       "      <td>82</td>\n",
       "      <td>3.16</td>\n",
       "      <td>62.14</td>\n",
       "    </tr>\n",
       "  </tbody>\n",
       "</table>\n",
       "</div>"
      ],
      "text/plain": [
       "          Country  Billionaires count  Percentage over total  \\\n",
       "0   United States                 754                  29.10   \n",
       "1           China                 515                  19.88   \n",
       "2           India                 157                   6.06   \n",
       "3         Germany                 102                   3.94   \n",
       "4  United Kingdom                  82                   3.16   \n",
       "\n",
       "   Cumulative Percentage  \n",
       "0                  29.10  \n",
       "1                  48.98  \n",
       "2                  55.04  \n",
       "3                  58.98  \n",
       "4                  62.14  "
      ]
     },
     "metadata": {},
     "output_type": "display_data"
    }
   ],
   "source": [
    "# Calculating the columns of the summary dataset\n",
    "\n",
    "country_billions = df_ready['country_of_residence'].value_counts().head(5)\n",
    "perc_1 = round((country_billions) / df_ready.shape[0] * 100,2)\n",
    "c_perc_1 = perc_1.cumsum()\n",
    "\n",
    "# Creating and displaying the dataset\n",
    "\n",
    "q1_df = pd.DataFrame({\n",
    "    'Country': country_billions.index,\n",
    "    'Billionaires count': country_billions.values,\n",
    "    'Percentage over total': perc_1.values,\n",
    "    'Cumulative Percentage': c_perc_1.values\n",
    "})\n",
    "\n",
    "display(q1_df)"
   ]
  },
  {
   "cell_type": "markdown",
   "metadata": {},
   "source": [
    "**Insights:**\n",
    "\n",
    "1. The country with more billionaires is the United States with 754, followed by China with 515. Between the two, they account for nearly half of the total billionaires presented in the dataset.\n",
    "\n",
    "2. Despite having the same population, China has almost three times the number of billionaires than India, who is in third place with 157 billionaires presented in the dataset.\n",
    "\n",
    "3. Germany and the United Kingdom appear in third and fourth positions, with 102 and 82 billionaires in the order given.\n",
    "\n",
    "4. In total, the Top 5 countries are the home of ~62% of the total number of billionaires presented in the dataset.\n",
    "\n"
   ]
  },
  {
   "cell_type": "markdown",
   "metadata": {},
   "source": [
    "### Question 2. What are the Top 5 cities in which billionaires reside and what proportion they represent?"
   ]
  },
  {
   "cell_type": "code",
   "execution_count": 186,
   "metadata": {},
   "outputs": [
    {
     "data": {
      "text/html": [
       "<div>\n",
       "<style scoped>\n",
       "    .dataframe tbody tr th:only-of-type {\n",
       "        vertical-align: middle;\n",
       "    }\n",
       "\n",
       "    .dataframe tbody tr th {\n",
       "        vertical-align: top;\n",
       "    }\n",
       "\n",
       "    .dataframe thead th {\n",
       "        text-align: right;\n",
       "    }\n",
       "</style>\n",
       "<table border=\"1\" class=\"dataframe\">\n",
       "  <thead>\n",
       "    <tr style=\"text-align: right;\">\n",
       "      <th></th>\n",
       "      <th>City</th>\n",
       "      <th>Billionaires count</th>\n",
       "      <th>Percentage over total</th>\n",
       "      <th>Cumulative Percentage</th>\n",
       "    </tr>\n",
       "  </thead>\n",
       "  <tbody>\n",
       "    <tr>\n",
       "      <th>0</th>\n",
       "      <td>New York</td>\n",
       "      <td>99</td>\n",
       "      <td>3.82</td>\n",
       "      <td>3.82</td>\n",
       "    </tr>\n",
       "    <tr>\n",
       "      <th>1</th>\n",
       "      <td>Beijing</td>\n",
       "      <td>68</td>\n",
       "      <td>2.62</td>\n",
       "      <td>6.44</td>\n",
       "    </tr>\n",
       "    <tr>\n",
       "      <th>2</th>\n",
       "      <td>Hong Kong</td>\n",
       "      <td>67</td>\n",
       "      <td>2.59</td>\n",
       "      <td>9.03</td>\n",
       "    </tr>\n",
       "    <tr>\n",
       "      <th>3</th>\n",
       "      <td>Shanghai</td>\n",
       "      <td>62</td>\n",
       "      <td>2.39</td>\n",
       "      <td>11.42</td>\n",
       "    </tr>\n",
       "    <tr>\n",
       "      <th>4</th>\n",
       "      <td>London</td>\n",
       "      <td>61</td>\n",
       "      <td>2.35</td>\n",
       "      <td>13.77</td>\n",
       "    </tr>\n",
       "  </tbody>\n",
       "</table>\n",
       "</div>"
      ],
      "text/plain": [
       "        City  Billionaires count  Percentage over total  Cumulative Percentage\n",
       "0   New York                  99                   3.82                   3.82\n",
       "1    Beijing                  68                   2.62                   6.44\n",
       "2  Hong Kong                  67                   2.59                   9.03\n",
       "3   Shanghai                  62                   2.39                  11.42\n",
       "4     London                  61                   2.35                  13.77"
      ]
     },
     "metadata": {},
     "output_type": "display_data"
    }
   ],
   "source": [
    "# Calculating the columns of the summary dataset\n",
    "\n",
    "city_billions = df_ready['city_of_residence'].value_counts().head(5)\n",
    "perc_2 = round((city_billions) / df_ready.shape[0] * 100,2)\n",
    "c_perc_2 = perc_2.cumsum()\n",
    "\n",
    "# Creating and displaying the dataset\n",
    "\n",
    "q2_df = pd.DataFrame({\n",
    "    'City': city_billions.index,\n",
    "    'Billionaires count': city_billions.values,\n",
    "    'Percentage over total': perc_2.values,\n",
    "    'Cumulative Percentage': c_perc_2.values\n",
    "})\n",
    "\n",
    "display(q2_df)"
   ]
  },
  {
   "cell_type": "markdown",
   "metadata": {},
   "source": [
    "**Insights:**\n",
    "\n",
    "1. With 99 billionaires, New York ranks first as the city in which more billionaires have their residence.\n",
    "\n",
    "2. The Special Administrative Region (SAR) of Hong Kong is the residence of 68 billionaires, ranking second in the Top.\n",
    "\n",
    "3. Beijing and Shanghai are the most popular popular cities for chinese billionaires with 68 and 62 of them in the order given. They rank second and fourth in the Top.\n",
    "\n",
    "4. London is the last city to appear in the ranking in the fifth place, only behind Shanghai by 1 billionaire. If we take into account the previous question, we can see that out of 82 billionaires that reside in the United Kingdom, 61 live in London (a proportion of ~74%).\n",
    "\n",
    "5. If we consider Hong Kong to be part of China, we can see that 3 cities of the Top 5 are located in this country.\n",
    "\n",
    "6. The cities in the Top 5 account for ~14% of the billionaires, with none of them surpassing 4% of total on their own."
   ]
  },
  {
   "cell_type": "markdown",
   "metadata": {},
   "source": [
    "### Question 3. How are billionaires distributed by continent and what proportion they represent?"
   ]
  },
  {
   "cell_type": "code",
   "execution_count": 10,
   "metadata": {},
   "outputs": [
    {
     "data": {
      "text/html": [
       "<div>\n",
       "<style scoped>\n",
       "    .dataframe tbody tr th:only-of-type {\n",
       "        vertical-align: middle;\n",
       "    }\n",
       "\n",
       "    .dataframe tbody tr th {\n",
       "        vertical-align: top;\n",
       "    }\n",
       "\n",
       "    .dataframe thead th {\n",
       "        text-align: right;\n",
       "    }\n",
       "</style>\n",
       "<table border=\"1\" class=\"dataframe\">\n",
       "  <thead>\n",
       "    <tr style=\"text-align: right;\">\n",
       "      <th></th>\n",
       "      <th>Continent</th>\n",
       "      <th>Billionaires count</th>\n",
       "      <th>Percentage over total</th>\n",
       "      <th>Cumulative Percentage</th>\n",
       "    </tr>\n",
       "  </thead>\n",
       "  <tbody>\n",
       "    <tr>\n",
       "      <th>0</th>\n",
       "      <td>Asia</td>\n",
       "      <td>1,062</td>\n",
       "      <td>40.99</td>\n",
       "      <td>40.99</td>\n",
       "    </tr>\n",
       "    <tr>\n",
       "      <th>1</th>\n",
       "      <td>North America</td>\n",
       "      <td>818</td>\n",
       "      <td>31.57</td>\n",
       "      <td>72.56</td>\n",
       "    </tr>\n",
       "    <tr>\n",
       "      <th>2</th>\n",
       "      <td>Europe</td>\n",
       "      <td>592</td>\n",
       "      <td>22.85</td>\n",
       "      <td>95.41</td>\n",
       "    </tr>\n",
       "    <tr>\n",
       "      <th>3</th>\n",
       "      <td>South America</td>\n",
       "      <td>57</td>\n",
       "      <td>2.20</td>\n",
       "      <td>97.61</td>\n",
       "    </tr>\n",
       "    <tr>\n",
       "      <th>4</th>\n",
       "      <td>Oceania</td>\n",
       "      <td>45</td>\n",
       "      <td>1.74</td>\n",
       "      <td>99.35</td>\n",
       "    </tr>\n",
       "    <tr>\n",
       "      <th>5</th>\n",
       "      <td>Africa</td>\n",
       "      <td>17</td>\n",
       "      <td>0.66</td>\n",
       "      <td>100.00</td>\n",
       "    </tr>\n",
       "  </tbody>\n",
       "</table>\n",
       "</div>"
      ],
      "text/plain": [
       "       Continent Billionaires count  Percentage over total  \\\n",
       "0           Asia              1,062                  40.99   \n",
       "1  North America                818                  31.57   \n",
       "2         Europe                592                  22.85   \n",
       "3  South America                 57                   2.20   \n",
       "4        Oceania                 45                   1.74   \n",
       "5         Africa                 17                   0.66   \n",
       "\n",
       "   Cumulative Percentage  \n",
       "0                  40.99  \n",
       "1                  72.56  \n",
       "2                  95.41  \n",
       "3                  97.61  \n",
       "4                  99.35  \n",
       "5                 100.00  "
      ]
     },
     "metadata": {},
     "output_type": "display_data"
    }
   ],
   "source": [
    "# Calculating the columns of the summary dataset\n",
    "\n",
    "cont_billions = df_ready['continent'].value_counts()\n",
    "perc_3 = round((cont_billions) / df_ready.shape[0] * 100,2)\n",
    "c_perc_3 = perc_3.cumsum()\n",
    "\n",
    "# Creating and displaying the dataset\n",
    "\n",
    "q3_df = pd.DataFrame({\n",
    "    'Continent': cont_billions.index,\n",
    "    'Billionaires count': cont_billions.map('{:,}'.format).values,\n",
    "    'Percentage over total': perc_3.values,\n",
    "    'Cumulative Percentage': np.minimum(c_perc_3.values, 100)\n",
    "})\n",
    "\n",
    "display(q3_df)"
   ]
  },
  {
   "cell_type": "markdown",
   "metadata": {},
   "source": [
    "**Insights:**\n",
    "\n",
    "1. Asia is the continent where more billionaires live, and the only one who surpasses the thousand count, followed by North America in second place with 818 billionaires and Europe with 592.\n",
    "\n",
    "2. These three continents comprises almost every billionaire presented in the dataset (~95%). The presence of South America, Oceania and Africa is testimonial.It should be noted the scarce presence of this last one in the data. Africa is the second most populous continent behind Asia but only has 17 billionaires.\n",
    "\n",
    "[Go back to the table of contents](#table-of-contents)"
   ]
  },
  {
   "cell_type": "markdown",
   "metadata": {},
   "source": [
    "### Question 4. Which are the industries that produce the most billionaires?"
   ]
  },
  {
   "cell_type": "code",
   "execution_count": 11,
   "metadata": {},
   "outputs": [
    {
     "data": {
      "text/html": [
       "<div>\n",
       "<style scoped>\n",
       "    .dataframe tbody tr th:only-of-type {\n",
       "        vertical-align: middle;\n",
       "    }\n",
       "\n",
       "    .dataframe tbody tr th {\n",
       "        vertical-align: top;\n",
       "    }\n",
       "\n",
       "    .dataframe thead th {\n",
       "        text-align: right;\n",
       "    }\n",
       "</style>\n",
       "<table border=\"1\" class=\"dataframe\">\n",
       "  <thead>\n",
       "    <tr style=\"text-align: right;\">\n",
       "      <th></th>\n",
       "      <th>Industry</th>\n",
       "      <th>Billionaires count</th>\n",
       "      <th>Percentage over total</th>\n",
       "      <th>Cumulative Percentage</th>\n",
       "    </tr>\n",
       "  </thead>\n",
       "  <tbody>\n",
       "    <tr>\n",
       "      <th>0</th>\n",
       "      <td>Finance &amp; Investments</td>\n",
       "      <td>364</td>\n",
       "      <td>14.05</td>\n",
       "      <td>14.05</td>\n",
       "    </tr>\n",
       "    <tr>\n",
       "      <th>1</th>\n",
       "      <td>Manufacturing</td>\n",
       "      <td>316</td>\n",
       "      <td>12.20</td>\n",
       "      <td>26.25</td>\n",
       "    </tr>\n",
       "    <tr>\n",
       "      <th>2</th>\n",
       "      <td>Technology</td>\n",
       "      <td>312</td>\n",
       "      <td>12.04</td>\n",
       "      <td>38.29</td>\n",
       "    </tr>\n",
       "    <tr>\n",
       "      <th>3</th>\n",
       "      <td>Fashion &amp; Retail</td>\n",
       "      <td>261</td>\n",
       "      <td>10.07</td>\n",
       "      <td>48.36</td>\n",
       "    </tr>\n",
       "    <tr>\n",
       "      <th>4</th>\n",
       "      <td>Food &amp; Beverage</td>\n",
       "      <td>207</td>\n",
       "      <td>7.99</td>\n",
       "      <td>56.35</td>\n",
       "    </tr>\n",
       "  </tbody>\n",
       "</table>\n",
       "</div>"
      ],
      "text/plain": [
       "                Industry Billionaires count  Percentage over total  \\\n",
       "0  Finance & Investments                364                  14.05   \n",
       "1          Manufacturing                316                  12.20   \n",
       "2             Technology                312                  12.04   \n",
       "3       Fashion & Retail                261                  10.07   \n",
       "4        Food & Beverage                207                   7.99   \n",
       "\n",
       "   Cumulative Percentage  \n",
       "0                  14.05  \n",
       "1                  26.25  \n",
       "2                  38.29  \n",
       "3                  48.36  \n",
       "4                  56.35  "
      ]
     },
     "metadata": {},
     "output_type": "display_data"
    }
   ],
   "source": [
    "# Calculating the columns of the summary dataset\n",
    "\n",
    "cat_billions = df_ready['category'].value_counts().head(5)\n",
    "perc_4 = round((cat_billions) / df_ready.shape[0] * 100,2)\n",
    "c_perc_4 = perc_4.cumsum()\n",
    "\n",
    "# Creating and displaying the dataset\n",
    "\n",
    "q4_df = pd.DataFrame({\n",
    "    'Industry': cat_billions.index,\n",
    "    'Billionaires count': cat_billions.map('{:,}'.format).values,\n",
    "    'Percentage over total': perc_4.values,\n",
    "    'Cumulative Percentage': c_perc_4.values\n",
    "})\n",
    "\n",
    "display(q4_df)"
   ]
  },
  {
   "cell_type": "markdown",
   "metadata": {},
   "source": [
    "**Insights:**\n",
    "\n",
    "1. Finance & Investments is the industry that produces most billionaires, followed by Manufacturing and Technology. These three categories are almost equally capable to produce wealthy individuals (with Finance & Investments having a slight advantage over the other two).\n",
    "\n",
    "2. Fashion and Food industries complete the Top 5, with a billionaires count over 200.\n",
    "\n",
    "3. Overall, these 5 industries comprises more than half the billionaires present in the dataset (~56%)."
   ]
  },
  {
   "cell_type": "markdown",
   "metadata": {},
   "source": [
    "### Question 5. What is the most common age for billionaires?"
   ]
  },
  {
   "cell_type": "code",
   "execution_count": 12,
   "metadata": {},
   "outputs": [
    {
     "data": {
      "text/html": [
       "<div>\n",
       "<style scoped>\n",
       "    .dataframe tbody tr th:only-of-type {\n",
       "        vertical-align: middle;\n",
       "    }\n",
       "\n",
       "    .dataframe tbody tr th {\n",
       "        vertical-align: top;\n",
       "    }\n",
       "\n",
       "    .dataframe thead th {\n",
       "        text-align: right;\n",
       "    }\n",
       "</style>\n",
       "<table border=\"1\" class=\"dataframe\">\n",
       "  <thead>\n",
       "    <tr style=\"text-align: right;\">\n",
       "      <th></th>\n",
       "      <th>Age</th>\n",
       "      <th>Billionaires count</th>\n",
       "      <th>Percentage over total</th>\n",
       "      <th>Cumulative Percentage</th>\n",
       "    </tr>\n",
       "  </thead>\n",
       "  <tbody>\n",
       "    <tr>\n",
       "      <th>0</th>\n",
       "      <td>59</td>\n",
       "      <td>101</td>\n",
       "      <td>3.90</td>\n",
       "      <td>3.90</td>\n",
       "    </tr>\n",
       "    <tr>\n",
       "      <th>1</th>\n",
       "      <td>60</td>\n",
       "      <td>87</td>\n",
       "      <td>3.36</td>\n",
       "      <td>7.26</td>\n",
       "    </tr>\n",
       "    <tr>\n",
       "      <th>2</th>\n",
       "      <td>58</td>\n",
       "      <td>82</td>\n",
       "      <td>3.16</td>\n",
       "      <td>10.42</td>\n",
       "    </tr>\n",
       "    <tr>\n",
       "      <th>3</th>\n",
       "      <td>65</td>\n",
       "      <td>81</td>\n",
       "      <td>3.13</td>\n",
       "      <td>13.55</td>\n",
       "    </tr>\n",
       "    <tr>\n",
       "      <th>4</th>\n",
       "      <td>67</td>\n",
       "      <td>76</td>\n",
       "      <td>2.93</td>\n",
       "      <td>16.48</td>\n",
       "    </tr>\n",
       "  </tbody>\n",
       "</table>\n",
       "</div>"
      ],
      "text/plain": [
       "   Age Billionaires count  Percentage over total  Cumulative Percentage\n",
       "0   59                101                   3.90                   3.90\n",
       "1   60                 87                   3.36                   7.26\n",
       "2   58                 82                   3.16                  10.42\n",
       "3   65                 81                   3.13                  13.55\n",
       "4   67                 76                   2.93                  16.48"
      ]
     },
     "metadata": {},
     "output_type": "display_data"
    }
   ],
   "source": [
    "# Calculating the columns of the summary dataset\n",
    "\n",
    "age_billions = df_ready['age'].value_counts().head(5)\n",
    "perc_5 = round((age_billions) / df_ready.shape[0] * 100,2)\n",
    "c_perc_5 = perc_5.cumsum()\n",
    "\n",
    "# Creating and displaying the dataset\n",
    "\n",
    "q5_df = pd.DataFrame({\n",
    "    'Age': age_billions.index,\n",
    "    'Billionaires count': age_billions.map('{:,}'.format).values,\n",
    "    'Percentage over total': perc_5.values,\n",
    "    'Cumulative Percentage': c_perc_5.values\n",
    "})\n",
    "\n",
    "display(q5_df)"
   ]
  },
  {
   "cell_type": "markdown",
   "metadata": {},
   "source": [
    "**Insights:**\n",
    "\n",
    "1. The most common age for billionaires is 59 years, the only value that surpasses with more than 100 counts. It's followed by 60 and 58 years with 87 and 82 billionaires in the order given. These three values account for ~10% of the total.\n",
    "\n",
    "2. All ages with most billionaire count are close or surpass the retirement age in most of the countries (60-65 years depending on the case)."
   ]
  },
  {
   "cell_type": "markdown",
   "metadata": {},
   "source": [
    "### Question 6. What is the overall distribution of billionaires by gender in the Top 5 countries?"
   ]
  },
  {
   "cell_type": "code",
   "execution_count": 29,
   "metadata": {},
   "outputs": [
    {
     "data": {
      "image/png": "[encoded data removed]",
      "text/plain": [
       "<Figure size 800x500 with 1 Axes>"
      ]
     },
     "metadata": {},
     "output_type": "display_data"
    }
   ],
   "source": [
    "\n",
    "\n",
    "# Extract Top 5 countries with more billionaires\n",
    "\n",
    "top5_countries = df_ready['country_of_residence'].value_counts().head(5).index\n",
    "\n",
    "# Group by country and gender, and count the number of billionaires\n",
    "\n",
    "gender_dist = df_ready[df_ready['country_of_residence'].isin(top5_countries)].groupby(['country_of_residence', 'gender']).size().unstack()\n",
    "\n",
    "# Sort countries by the total number of billionaires\n",
    "\n",
    "sorted_countries_gender = gender_dist.sum(axis=1).sort_values(ascending=False).index\n",
    "gender_dist = gender_dist.loc[sorted_countries_gender]\n",
    "\n",
    "ax = gender_dist.plot(kind='bar', stacked=True, figsize=(8, 5))\n",
    "\n",
    "# Adding labels to each bar\n",
    "\n",
    "ax.bar_label(ax.containers[0])\n",
    "ax.bar_label(ax.containers[1])\n",
    "\n",
    "# Adding elements to make the chart more informative and displaying it\n",
    "\n",
    "plt.title('Billionaires Gender Count in Top 5 Countries')\n",
    "plt.xlabel('Country')\n",
    "plt.ylabel('Number of Billionaires')\n",
    "plt.xticks(rotation=45, ha='right')\n",
    "plt.legend(title='Gender')\n",
    "plt.show()\n"
   ]
  },
  {
   "cell_type": "code",
   "execution_count": 36,
   "metadata": {},
   "outputs": [
    {
     "data": {
      "text/html": [
       "<div>\n",
       "<style scoped>\n",
       "    .dataframe tbody tr th:only-of-type {\n",
       "        vertical-align: middle;\n",
       "    }\n",
       "\n",
       "    .dataframe tbody tr th {\n",
       "        vertical-align: top;\n",
       "    }\n",
       "\n",
       "    .dataframe thead th {\n",
       "        text-align: right;\n",
       "    }\n",
       "</style>\n",
       "<table border=\"1\" class=\"dataframe\">\n",
       "  <thead>\n",
       "    <tr style=\"text-align: right;\">\n",
       "      <th>gender</th>\n",
       "      <th>F</th>\n",
       "      <th>M</th>\n",
       "      <th>F_proportion</th>\n",
       "      <th>M_proportion</th>\n",
       "    </tr>\n",
       "    <tr>\n",
       "      <th>country_of_residence</th>\n",
       "      <th></th>\n",
       "      <th></th>\n",
       "      <th></th>\n",
       "      <th></th>\n",
       "    </tr>\n",
       "  </thead>\n",
       "  <tbody>\n",
       "    <tr>\n",
       "      <th>United States</th>\n",
       "      <td>99</td>\n",
       "      <td>655</td>\n",
       "      <td>0.13</td>\n",
       "      <td>0.87</td>\n",
       "    </tr>\n",
       "    <tr>\n",
       "      <th>China</th>\n",
       "      <td>54</td>\n",
       "      <td>461</td>\n",
       "      <td>0.10</td>\n",
       "      <td>0.89</td>\n",
       "    </tr>\n",
       "    <tr>\n",
       "      <th>India</th>\n",
       "      <td>13</td>\n",
       "      <td>144</td>\n",
       "      <td>0.08</td>\n",
       "      <td>0.91</td>\n",
       "    </tr>\n",
       "    <tr>\n",
       "      <th>Germany</th>\n",
       "      <td>27</td>\n",
       "      <td>75</td>\n",
       "      <td>0.26</td>\n",
       "      <td>0.73</td>\n",
       "    </tr>\n",
       "    <tr>\n",
       "      <th>United Kingdom</th>\n",
       "      <td>9</td>\n",
       "      <td>73</td>\n",
       "      <td>0.11</td>\n",
       "      <td>0.88</td>\n",
       "    </tr>\n",
       "  </tbody>\n",
       "</table>\n",
       "</div>"
      ],
      "text/plain": [
       "gender                 F    M  F_proportion  M_proportion\n",
       "country_of_residence                                     \n",
       "United States         99  655          0.13          0.87\n",
       "China                 54  461          0.10          0.89\n",
       "India                 13  144          0.08          0.91\n",
       "Germany               27   75          0.26          0.73\n",
       "United Kingdom         9   73          0.11          0.88"
      ]
     },
     "metadata": {},
     "output_type": "display_data"
    },
    {
     "data": {
      "text/plain": [
       "gender\n",
       "M   0.88\n",
       "F   0.12\n",
       "Name: proportion, dtype: float64"
      ]
     },
     "metadata": {},
     "output_type": "display_data"
    }
   ],
   "source": [
    "# Creating two new columns in the gender_dist dataframe to display gender proportions\n",
    "\n",
    "gender_dist['F_proportion'] = gender_dist['F'] / gender_dist.sum(axis=1)\n",
    "gender_dist['M_proportion'] = gender_dist['M'] / gender_dist.sum(axis=1)\n",
    "\n",
    "# Displaying the dataframe with the gender proportions by country and the overall gender proportion\n",
    "\n",
    "display(gender_dist)\n",
    "display(df_ready['gender'].value_counts(normalize=True))"
   ]
  },
  {
   "cell_type": "markdown",
   "metadata": {},
   "source": [
    "**Insights:**\n",
    "\n",
    "1. In the Top 5 countries, there are much more male billionaires that females regardless of geographic location and economic development.\n",
    "\n",
    "2. The overall proportion is ~88% males and ~12 females. 4 out of 5 countries in the Top have a similar distribution. The only exception is Germany, whose distribution is the most egalitarian towards females, although it continues to show male dominance by 3 male billionaires for every female billionaire.\n",
    "\n",
    "3. The country where female billionaires comprises the lowest percentage in the Top is India, with less than 10%. In absolute terms, there are only 9 female billionaires in the United Kingdom, the lowest number in the Top.\n",
    "\n",
    "4. In contrast with the above point, the maximum number of both, male and female billionaires can be found in the United States, due to their highest overall number of billionaires.\n",
    "\n",
    "[Go back to the table of contents](#table-of-contents)"
   ]
  },
  {
   "cell_type": "markdown",
   "metadata": {},
   "source": [
    "### Question 7. Box plot to see the distribution of wealth across top 5 countries"
   ]
  },
  {
   "cell_type": "code",
   "execution_count": 55,
   "metadata": {},
   "outputs": [
    {
     "name": "stderr",
     "output_type": "stream",
     "text": [
      "C:\\Users\\Sydney\\AppData\\Local\\Temp\\ipykernel_1284\\964695486.py:5: FutureWarning: \n",
      "\n",
      "Passing `palette` without assigning `hue` is deprecated and will be removed in v0.14.0. Assign the `x` variable to `hue` and set `legend=False` for the same effect.\n",
      "\n",
      "  sns.boxplot(x='country_of_residence', y='wealth', data=df_ready[df_ready['country_of_residence'].isin(top5_countries)], showfliers=False, palette=sns.color_palette('viridis', n_colors=len(top5_countries)))\n"
     ]
    },
    {
     "data": {
      "image/png": "[encoded data removed]",
      "text/plain": [
       "<Figure size 800x800 with 1 Axes>"
      ]
     },
     "metadata": {},
     "output_type": "display_data"
    }
   ],
   "source": [
    "# Creating a box plot using the subset for top5_countries\n",
    "\n",
    "top5_countries = df_ready['country_of_residence'].value_counts().head(5).index\n",
    "plt.figure(figsize=(8,8))\n",
    "sns.boxplot(x='country_of_residence', y='wealth', data=df_ready[df_ready['country_of_residence'].isin(top5_countries)], showfliers=False, palette=sns.color_palette('viridis', n_colors=len(top5_countries)))\n",
    "plt.title('Wealth Distribution of Top 5 countries with Most Billionaires')\n",
    "plt.xlabel('Country')\n",
    "plt.ylabel('Wealth (in USD)')\n",
    "plt.show()\n"
   ]
  },
  {
   "cell_type": "code",
   "execution_count": 65,
   "metadata": {},
   "outputs": [
    {
     "data": {
      "text/html": [
       "<div>\n",
       "<style scoped>\n",
       "    .dataframe tbody tr th:only-of-type {\n",
       "        vertical-align: middle;\n",
       "    }\n",
       "\n",
       "    .dataframe tbody tr th {\n",
       "        vertical-align: top;\n",
       "    }\n",
       "\n",
       "    .dataframe thead th {\n",
       "        text-align: right;\n",
       "    }\n",
       "</style>\n",
       "<table border=\"1\" class=\"dataframe\">\n",
       "  <thead>\n",
       "    <tr style=\"text-align: right;\">\n",
       "      <th></th>\n",
       "      <th>Q1 ($B)</th>\n",
       "      <th>Median wealth ($B)</th>\n",
       "      <th>Q3 ($B)</th>\n",
       "    </tr>\n",
       "    <tr>\n",
       "      <th>country_of_residence</th>\n",
       "      <th></th>\n",
       "      <th></th>\n",
       "      <th></th>\n",
       "    </tr>\n",
       "  </thead>\n",
       "  <tbody>\n",
       "    <tr>\n",
       "      <th>China</th>\n",
       "      <td>1300.00</td>\n",
       "      <td>1900.00</td>\n",
       "      <td>3200.00</td>\n",
       "    </tr>\n",
       "    <tr>\n",
       "      <th>Germany</th>\n",
       "      <td>1500.00</td>\n",
       "      <td>2650.00</td>\n",
       "      <td>4475.00</td>\n",
       "    </tr>\n",
       "    <tr>\n",
       "      <th>India</th>\n",
       "      <td>1400.00</td>\n",
       "      <td>2100.00</td>\n",
       "      <td>3200.00</td>\n",
       "    </tr>\n",
       "    <tr>\n",
       "      <th>United Kingdom</th>\n",
       "      <td>1425.00</td>\n",
       "      <td>2600.00</td>\n",
       "      <td>6300.00</td>\n",
       "    </tr>\n",
       "    <tr>\n",
       "      <th>United States</th>\n",
       "      <td>1800.00</td>\n",
       "      <td>2900.00</td>\n",
       "      <td>5300.00</td>\n",
       "    </tr>\n",
       "  </tbody>\n",
       "</table>\n",
       "</div>"
      ],
      "text/plain": [
       "                      Q1 ($B)  Median wealth ($B)  Q3 ($B)\n",
       "country_of_residence                                      \n",
       "China                 1300.00             1900.00  3200.00\n",
       "Germany               1500.00             2650.00  4475.00\n",
       "India                 1400.00             2100.00  3200.00\n",
       "United Kingdom        1425.00             2600.00  6300.00\n",
       "United States         1800.00             2900.00  5300.00"
      ]
     },
     "metadata": {},
     "output_type": "display_data"
    }
   ],
   "source": [
    "# Creating a summary to provide further understanding of the values appearing in the boxplot\n",
    "\n",
    "box_plot_summary = df_ready[df_ready['country_of_residence'].isin(top5_countries)].groupby('country_of_residence')['wealth'].describe()[['25%', '50%', '75%']]\n",
    "\n",
    "box_plot_summary.columns = ['Q1 ($B)', 'Median wealth ($B)', 'Q3 ($B)']\n",
    "display(box_plot_summary)"
   ]
  },
  {
   "cell_type": "markdown",
   "metadata": {},
   "source": [
    "**Insights:**\n",
    "\n",
    "1. The maximum values for the first and second quartile are in the United States, while the maximum value for the third quartile is located in the United Kingdom, with the United States in the second place. This suggests that there is a significant range of billionaire wealth in the higher end for these countries as well as the potential presence of outlier values with extremely high net worth.\n",
    "\n",
    "2. India and China have similar distributions regarding the three metrics. China has a little bigger upper whisker and quartile 3 and a lower median, which indicates the presence of more billionaires in the upper values of the billionaire distribution, that is, a slightly more unequal wealth distribution than India's.\n",
    "\n",
    "3. Germany's wealth distribution is similar to the United Kindgom in quartiles 1 and 2 but has a much lower value for quartile 3. This suggests a wealth distribution more concentrated around the median, with fewer individuals with extreme wealth and less potential outliers."
   ]
  },
  {
   "cell_type": "markdown",
   "metadata": {},
   "source": [
    "### Question 8. Billionaires age distribution"
   ]
  },
  {
   "cell_type": "code",
   "execution_count": 90,
   "metadata": {},
   "outputs": [
    {
     "data": {
      "image/png": "[encoded data removed]",
      "text/plain": [
       "<Figure size 800x600 with 1 Axes>"
      ]
     },
     "metadata": {},
     "output_type": "display_data"
    }
   ],
   "source": [
    "\n",
    "# Setting up the figure size and plotting the histogram of billionaire ages\n",
    "\n",
    "plt.figure(figsize=(8, 6))\n",
    "sns.histplot(df_ready['age'], bins=20, kde=True, color='teal', edgecolor='black')\n",
    "\n",
    "# Add a vertical line for the median age\n",
    "median_age = df_ready['age'].median()\n",
    "plt.axvline(median_age, color='darkslategray', linestyle='dashed', linewidth=2, label=f'Median age: {int(median_age)}')\n",
    "\n",
    "# Adding elements to improve readability and more information to the chart\n",
    "\n",
    "plt.title('Age Distribution of Billionaires', fontsize=16)\n",
    "plt.xlabel('Age', fontsize=12)\n",
    "plt.ylabel('Frequency', fontsize=12)\n",
    "plt.xticks(range(20, 101, 5))\n",
    "plt.legend()\n",
    "\n",
    "plt.show()"
   ]
  },
  {
   "cell_type": "markdown",
   "metadata": {},
   "source": [
    "**Insights:**\n",
    "\n",
    "1. The most frequent values for billionaire's ages are around 60 years old. This aligns with the values obtained in the Question 5, where 58, 59 and 60 appeared as values with high frequence of billionaires.\n",
    "\n",
    "2. The histogram also shows a second age peak around 75 years. Diving deeper into this, it's clear there is more frequency for high values than lower ones, which suggests a positive correlation between wealth accumulation and age. If we look at the first and bottom four bins (from 20 to 35 and from 85 to 100), we can see a much higher frequence for these last ones.\n",
    "\n",
    "3. The two peaks mentioned are almost equally in terms of frequency and the median value of the billionaires is located between them, although more close to 60 years than 75, indicating the prevalence of this age."
   ]
  },
  {
   "cell_type": "markdown",
   "metadata": {},
   "source": [
    "### Question 9. What are the most common birth day, month and year for billionaires?"
   ]
  },
  {
   "cell_type": "code",
   "execution_count": 100,
   "metadata": {},
   "outputs": [
    {
     "data": {
      "image/png": "[encoded data removed]",
      "text/plain": [
       "<Figure size 1200x500 with 2 Axes>"
      ]
     },
     "metadata": {},
     "output_type": "display_data"
    }
   ],
   "source": [
    "# Setup the figure and axes\n",
    "\n",
    "fig, axes = plt.subplots(1,2, figsize=(12,5))\n",
    "\n",
    "# Plotting the distribution of birth months\n",
    "\n",
    "sns.histplot(df_ready['birth_month'], bins=12, kde=False, ax=axes[0], color='lightsteelblue')\n",
    "axes[0].set_title('Distribution of Birth Months')\n",
    "axes[0].set_xlabel('Month')\n",
    "axes[0].set_ylabel('Frequency')\n",
    "plt.xticks(range(1, 13, 1))\n",
    "\n",
    "# Plot the distribution of birth days\n",
    "\n",
    "sns.histplot(df_ready['birth_day'], bins=31, kde=False, ax=axes[1], color='lightcoral')\n",
    "axes[1].set_title('Distribution of Birth Days')\n",
    "axes[1].set_xlabel('Day')\n",
    "axes[1].set_ylabel('Frequency')\n",
    "plt.xticks(range(1, 32, 2))\n",
    "\n",
    "# Adjust layout\n",
    "\n",
    "plt.tight_layout()\n",
    "plt.show()"
   ]
  },
  {
   "cell_type": "markdown",
   "metadata": {},
   "source": [
    "**Insights:**\n",
    "\n",
    "1. Borth charts display a disproportionate frequency for day 1 and January. This could be due to one or all of the following:\n",
    "\n",
    "   1. There might be a bias in data entry, where the default or missing values are set to January 1st. It's possible that creating the synthetic birth dates using the most frequent values for each country to replace null values could have contributed to exacerbate frequencies for these values.\n",
    "   2. Some individuals might have chosen to keep their birthdate private. In such cases, a common placeholder for birth date could be January 1st. This is related with the above point.\n",
    "2. Other than this frequency, the other values follow an even distribution for both variables, with some lows (like november in the birth month plot or 31st in the birth day plot) and highs (like october for months and 15th for days)."
   ]
  },
  {
   "cell_type": "markdown",
   "metadata": {},
   "source": [
    "### Question 10. Country pop and number of billionaires. What is the frequency of being a billionaire in the Top 5 countries?"
   ]
  },
  {
   "cell_type": "code",
   "execution_count": 185,
   "metadata": {},
   "outputs": [
    {
     "data": {
      "text/html": [
       "<div>\n",
       "<style scoped>\n",
       "    .dataframe tbody tr th:only-of-type {\n",
       "        vertical-align: middle;\n",
       "    }\n",
       "\n",
       "    .dataframe tbody tr th {\n",
       "        vertical-align: top;\n",
       "    }\n",
       "\n",
       "    .dataframe thead th {\n",
       "        text-align: right;\n",
       "    }\n",
       "</style>\n",
       "<table border=\"1\" class=\"dataframe\">\n",
       "  <thead>\n",
       "    <tr style=\"text-align: right;\">\n",
       "      <th></th>\n",
       "      <th>Country</th>\n",
       "      <th>Billionaires Count</th>\n",
       "      <th>Country Population</th>\n",
       "      <th>Billionaire Density</th>\n",
       "    </tr>\n",
       "  </thead>\n",
       "  <tbody>\n",
       "    <tr>\n",
       "      <th>0</th>\n",
       "      <td>United States</td>\n",
       "      <td>754</td>\n",
       "      <td>328239523</td>\n",
       "      <td>435330.93</td>\n",
       "    </tr>\n",
       "    <tr>\n",
       "      <th>1</th>\n",
       "      <td>China</td>\n",
       "      <td>515</td>\n",
       "      <td>1397715000</td>\n",
       "      <td>2714009.71</td>\n",
       "    </tr>\n",
       "    <tr>\n",
       "      <th>2</th>\n",
       "      <td>India</td>\n",
       "      <td>157</td>\n",
       "      <td>1366417754</td>\n",
       "      <td>8703297.80</td>\n",
       "    </tr>\n",
       "    <tr>\n",
       "      <th>3</th>\n",
       "      <td>Germany</td>\n",
       "      <td>102</td>\n",
       "      <td>83132799</td>\n",
       "      <td>815027.44</td>\n",
       "    </tr>\n",
       "    <tr>\n",
       "      <th>4</th>\n",
       "      <td>United Kingdom</td>\n",
       "      <td>82</td>\n",
       "      <td>66834405</td>\n",
       "      <td>815053.72</td>\n",
       "    </tr>\n",
       "  </tbody>\n",
       "</table>\n",
       "</div>"
      ],
      "text/plain": [
       "          Country  Billionaires Count  Country Population  Billionaire Density\n",
       "0   United States                 754           328239523            435330.93\n",
       "1           China                 515          1397715000           2714009.71\n",
       "2           India                 157          1366417754           8703297.80\n",
       "3         Germany                 102            83132799            815027.44\n",
       "4  United Kingdom                  82            66834405            815053.72"
      ]
     },
     "metadata": {},
     "output_type": "display_data"
    }
   ],
   "source": [
    "# Calculating the columns of the summary dataset\n",
    "\n",
    "density_billions = df_ready['country_of_residence'].value_counts().head(5)\n",
    "billions_number = density_billions\n",
    "country_pop = df_ready.groupby('country_of_residence')['country_pop'].max()\n",
    "\n",
    "# Creating and displaying the dataset\n",
    "\n",
    "q10_df = pd.DataFrame({\n",
    "    'Country': density_billions.index,\n",
    "    'Billionaires Count': density_billions.values,\n",
    "    'Country Population': country_pop.loc[density_billions.index].values,\n",
    "})\n",
    "\n",
    "q10_df['Billionaire Density'] = q10_df['Country Population'] / q10_df['Billionaires Count']\n",
    "display(q10_df)\n"
   ]
  },
  {
   "cell_type": "code",
   "execution_count": 182,
   "metadata": {},
   "outputs": [
    {
     "name": "stdout",
     "output_type": "stream",
     "text": [
      "In United States, there is one billionaire every 435,330 persons.\n",
      "In China, there is one billionaire every 2,714,009 persons.\n",
      "In India, there is one billionaire every 8,703,297 persons.\n",
      "In Germany, there is one billionaire every 815,027 persons.\n",
      "In United Kingdom, there is one billionaire every 815,053 persons.\n"
     ]
    }
   ],
   "source": [
    "q10_df['Sentence'] = [f'In {row[\"Country\"]}, there is one billionaire every {int(row[\"Billionaire Density\"]):,} persons.' for index, row in q10_df.iterrows()]\n",
    "\n",
    "# Display the sentences\n",
    "for sentence in q10_df['Sentence']:\n",
    "    print(sentence)\n",
    "\n"
   ]
  },
  {
   "cell_type": "markdown",
   "metadata": {},
   "source": [
    "**Insights:**\n",
    "\n",
    "1. From the summary table and the above sentences, it's clear that the highest density of billionaires can be found in the United States, reflecting a more conductive environment for wealth creation and economic opportunities.\n",
    "2. Both, Germany and the United Kingdom have almost identical values in this measure.\n",
    "\n",
    "3. Despite their impressive economic growth in recent decades, China has a lower billionaire density in comparison with advanced economies. This ratio is expected to be reduced in the following years if the Chinese economy continues its development, but it's far from even European Countries right now.\n",
    "\n",
    "4. India has the lowest billionaire density among the countries in the Top 5, which reflects an economy that has a lot of potential but has only beginning to growth in a consistent way in recent years.\n"
   ]
  },
  {
   "cell_type": "code",
   "execution_count": 184,
   "metadata": {},
   "outputs": [
    {
     "data": {
      "image/png": "[encoded data removed]",
      "text/plain": [
       "<Figure size 800x500 with 1 Axes>"
      ]
     },
     "metadata": {},
     "output_type": "display_data"
    }
   ],
   "source": [
    "# Creating a bar plot to further understand the billionaire density indicator\n",
    "\n",
    "plt.figure(figsize=(8,5))\n",
    "sns.barplot(x='Country', y='Billionaire Density', data=q10_df, hue='Country', edgecolor='black')\n",
    "\n",
    "# Adding elements to make the chart more appealing\n",
    "\n",
    "plt.title('Billionaire Density in Top 5 Countries', fontsize=16)\n",
    "plt.xlabel('Country', fontsize=12)\n",
    "plt.ylabel('Number of persons by Billionaire', fontsize=12)\n",
    "plt.ticklabel_format(style='plain', axis='y', useMathText=True, scilimits=(6,6))\n",
    "\n",
    "plt.show()"
   ]
  },
  {
   "cell_type": "markdown",
   "metadata": {},
   "source": [
    "**Note**: Due to how this measure is calculated (total population divided by the number of billionaires in each country), the graph can be misinterpreted with ease. Higher values imply a low presence of billionaires among the overall population. Although the presence of wealthy individuals is not representative of an advanced economy by itself and should be considered in conjunction with other economic indicators, it provides a standard way to compare how frequent is to find these types of individuals in a particular society and can be considered as a proxy of how wealth a society is.\n",
    "\n",
    "[Go back to the table of contents](#table-of-contents)"
   ]
  }
 ],
 "metadata": {
  "kernelspec": {
   "display_name": "Python 3",
   "language": "python",
   "name": "python3"
  },
  "language_info": {
   "codemirror_mode": {
    "name": "ipython",
    "version": 3
   },
   "file_extension": ".py",
   "mimetype": "text/x-python",
   "name": "python",
   "nbconvert_exporter": "python",
   "pygments_lexer": "ipython3",
   "version": "3.11.5"
  }
 },
 "nbformat": 4,
 "nbformat_minor": 2
}
